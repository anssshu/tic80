{
 "cells": [
  {
   "cell_type": "code",
   "execution_count": null,
   "metadata": {},
   "outputs": [],
   "source": [
    "import subprocess\n",
    "import os\n",
    "from datetime import datetime\n",
    "#current_dir = os.path.dirname(os.path.abspath(__file__))\n",
    "# Get the current working directory\n",
    "current_dir = os.getcwd()\n",
    "\n",
    "# Construct a path to a subdirectory\n",
    "#subdir_path = os.path.join(current_dir, 'github/tic80')\n",
    "def run_git_command(command):\n",
    "    try:\n",
    "        result = subprocess.run(command, capture_output=True, text=True, check=True)\n",
    "        print(result.stdout)\n",
    "    except subprocess.CalledProcessError as e:\n",
    "        print(f\"Error: {e.stderr}\")\n",
    "\n",
    "def upload_to_github():\n",
    "    # Change the current working directory to the repository directory\n",
    "    #run_git_command(['cd', current_dir])\n",
    "    print(f\"{current_dir}\")\n",
    "    # Add all files to the staging area\n",
    "    run_git_command(['git', 'add', '.'])\n",
    "\n",
    "    # Get the current date and time\n",
    "    now = datetime.now()\n",
    "    date_time_str = now.strftime(\"%Y-%m-%d %H:%M:%S\")\n",
    "\n",
    "    # Commit the changes with date and time in the commit message\n",
    "    commit_message = f\"Automated commit from Python script on {date_time_str}\"\n",
    "    run_git_command(['git', 'commit', '-m', commit_message])\n",
    "\n",
    "    # Push the changes to the remote repository\n",
    "    run_git_command(['git', 'push', 'origin', 'main'])\n",
    "\n",
    "if __name__ == \"__main__\":\n",
    "    upload_to_github()"
   ]
  },
  {
   "cell_type": "markdown",
   "metadata": {},
   "source": []
  }
 ],
 "metadata": {
  "kernelspec": {
   "display_name": "Python 3",
   "language": "python",
   "name": "python3"
  },
  "language_info": {
   "codemirror_mode": {
    "name": "ipython",
    "version": 3
   },
   "file_extension": ".py",
   "mimetype": "text/x-python",
   "name": "python",
   "nbconvert_exporter": "python",
   "pygments_lexer": "ipython3",
   "version": "3.13.1"
  }
 },
 "nbformat": 4,
 "nbformat_minor": 2
}
